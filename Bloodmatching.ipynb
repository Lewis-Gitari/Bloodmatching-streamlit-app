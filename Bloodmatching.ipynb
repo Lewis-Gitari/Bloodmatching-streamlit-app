{
 "cells": [
  {
   "cell_type": "code",
   "execution_count": 1,
   "metadata": {},
   "outputs": [],
   "source": [
    "import pandas as pd\n",
    "from flask import Flask, request, jsonify\n",
    "from sklearn.preprocessing import StandardScaler\n",
    "from sklearn.model_selection import train_test_split\n"
   ]
  },
  {
   "cell_type": "code",
   "execution_count": 2,
   "metadata": {},
   "outputs": [],
   "source": [
    "# Example donor and recipient data structures\n",
    "donors = pd.DataFrame({\n",
    "    'id': [1, 2, 3],\n",
    "    'name': ['Donor A', 'Donor B', 'Donor C'],\n",
    "    'blood_group': ['A', 'B', 'O'],\n",
    "    'rh_factor': ['+', '-', '+']\n",
    "})\n",
    "\n",
    "recipients = pd.DataFrame({\n",
    "    'id': [101, 102, 103],\n",
    "    'name': ['Recipient X', 'Recipient Y', 'Recipient Z'],\n",
    "    'blood_group': ['A', 'AB', 'O'],\n",
    "    'rh_factor': ['+', '+', '-']\n",
    "})\n",
    "\n",
    "# Blood group compatibility rules\n",
    "compatible_blood_groups = {\n",
    "    'A': ['A', 'AB'],\n",
    "    'B': ['B', 'AB'],\n",
    "    'AB': ['AB'],\n",
    "    'O': ['A', 'B', 'AB', 'O']\n",
    "}"
   ]
  },
  {
   "cell_type": "code",
   "execution_count": null,
   "metadata": {},
   "outputs": [],
   "source": [
    "# Define functions for cross-matching\n",
    "def compatible_blood_groups (donor, recipient):\n",
    "    if recipient['blood_group'] in compatible_blood_groups[donor['blood_group']]:\n",
    "        # Check Rh factor compatibility\n",
    "        if recipient['rh_factor'] == '+' or (recipient['rh_factor'] == '-' and donor['rh_factor'] == '-'):\n",
    "            return True\n",
    "    return False\n",
    "\n",
    "def find_compatible_donors(recipient):\n",
    "    compatible_donors = []\n",
    "    for _, donor in donors.iterrows():\n",
    "        if compatible_blood_groups(donor, recipient):\n",
    "            compatible_donors.append(donor)\n",
    "    return compatible_donors"
   ]
  },
  {
   "cell_type": "code",
   "execution_count": null,
   "metadata": {},
   "outputs": [],
   "source": []
  }
 ],
 "metadata": {
  "kernelspec": {
   "display_name": "datascience",
   "language": "python",
   "name": "python3"
  },
  "language_info": {
   "codemirror_mode": {
    "name": "ipython",
    "version": 3
   },
   "file_extension": ".py",
   "mimetype": "text/x-python",
   "name": "python",
   "nbconvert_exporter": "python",
   "pygments_lexer": "ipython3",
   "version": "3.11.7"
  }
 },
 "nbformat": 4,
 "nbformat_minor": 2
}
